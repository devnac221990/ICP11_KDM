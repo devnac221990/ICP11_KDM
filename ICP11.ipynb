{
  "nbformat": 4,
  "nbformat_minor": 0,
  "metadata": {
    "colab": {
      "name": "ICP11.ipynb",
      "provenance": [],
      "include_colab_link": true
    },
    "kernelspec": {
      "name": "python3",
      "display_name": "Python 3"
    },
    "language_info": {
      "name": "python"
    },
    "accelerator": "GPU"
  },
  "cells": [
    {
      "cell_type": "markdown",
      "metadata": {
        "id": "view-in-github",
        "colab_type": "text"
      },
      "source": [
        "<a href=\"https://colab.research.google.com/github/devnac221990/ICP11_KDM/blob/main/ICP11.ipynb\" target=\"_parent\"><img src=\"https://colab.research.google.com/assets/colab-badge.svg\" alt=\"Open In Colab\"/></a>"
      ]
    },
    {
      "cell_type": "markdown",
      "metadata": {
        "id": "-jFFRbCqzRY8"
      },
      "source": [
        "In this ICP we will build 2 feed forward network.\n",
        "\n",
        ">Auto Encoder\n",
        "\n",
        ">CNN\n",
        "\n",
        ">Data Set\n",
        "\n",
        ">>The MNIST database of handwritten digits. Training set of 60,000 examples, and a test set of 10,000 examples\n"
      ]
    },
    {
      "cell_type": "markdown",
      "metadata": {
        "id": "XGzIpl7P0U6_"
      },
      "source": [
        "Auto Encoders:\n",
        "\n",
        ">>Data compression is a big topic that’s used in computer vision, computer networks, computer architecture, and many other fields.The point of data compression is to convert our input into a smaller representation that we recreate, to a degree of quality. This smaller representation is what would be passed around, and, when anyone needed the original, they would reconstruct it from the smaller representation.Autoencoders are unsupervised neural networks that use machine learning to do this compression \n"
      ]
    },
    {
      "cell_type": "code",
      "metadata": {
        "id": "r9_cWbPki6tv"
      },
      "source": [
        "from keras.layers import Input, Dense\n",
        "from keras.models import Model\n",
        "from keras.datasets import mnist\n",
        " \n",
        "import numpy as np\n",
        "import matplotlib.pyplot as plt\n",
        "\n"
      ],
      "execution_count": null,
      "outputs": []
    },
    {
      "cell_type": "markdown",
      "metadata": {
        "id": "fZMxXfcA0wIW"
      },
      "source": [
        "Load  MNIST handwritten digits dataset.\n",
        "\n",
        "There is no need to load labels because autoencoders are unsupervised.\n",
        "\n",
        "Rescale our images from 0 – 255 to 0 – 1 and flatten them out.\n"
      ]
    },
    {
      "cell_type": "code",
      "metadata": {
        "id": "-z3fLLrtjO1X",
        "colab": {
          "base_uri": "https://localhost:8080/"
        },
        "outputId": "c19faca1-d062-40e1-8b08-a4c894e17856"
      },
      "source": [
        "#Notice that we’re not loading any of the labels because autoencoders are unsupervised\n",
        "(X_train, _), (X_test, _) = mnist.load_data()\n",
        "# rescale our images from 0 – 255 to 0 – 1 and flatten them out.\n",
        "X_train = X_train.astype('float32') / 255.\n",
        "X_test = X_test.astype('float32') / 255.\n",
        "X_train = X_train.reshape((X_train.shape[0], -1))\n",
        "X_test = X_test.reshape((X_test.shape[0], -1))"
      ],
      "execution_count": null,
      "outputs": [
        {
          "output_type": "stream",
          "text": [
            "Downloading data from https://storage.googleapis.com/tensorflow/tf-keras-datasets/mnist.npz\n",
            "11493376/11490434 [==============================] - 0s 0us/step\n"
          ],
          "name": "stdout"
        }
      ]
    },
    {
      "cell_type": "code",
      "metadata": {
        "colab": {
          "base_uri": "https://localhost:8080/"
        },
        "id": "MceFF_0BjO9O",
        "outputId": "0ede90b0-9f76-47da-ad2c-191517cfe17a"
      },
      "source": [
        "X_train.shape"
      ],
      "execution_count": null,
      "outputs": [
        {
          "output_type": "execute_result",
          "data": {
            "text/plain": [
              "(60000, 784)"
            ]
          },
          "metadata": {
            "tags": []
          },
          "execution_count": 5
        }
      ]
    },
    {
      "cell_type": "code",
      "metadata": {
        "colab": {
          "base_uri": "https://localhost:8080/"
        },
        "id": "BupxtkW-jPDk",
        "outputId": "7046423a-1325-4e99-d1ef-917b69f9d419"
      },
      "source": [
        "X_test.shape"
      ],
      "execution_count": null,
      "outputs": [
        {
          "output_type": "execute_result",
          "data": {
            "text/plain": [
              "(10000, 784)"
            ]
          },
          "metadata": {
            "tags": []
          },
          "execution_count": 6
        }
      ]
    },
    {
      "cell_type": "code",
      "metadata": {
        "id": "4tzUyrr7rBUg"
      },
      "source": [
        "INPUT_SIZE = 784\n",
        "ENCODING_SIZE = 64"
      ],
      "execution_count": null,
      "outputs": []
    },
    {
      "cell_type": "markdown",
      "metadata": {
        "id": "-h3DN2WW1Hjn"
      },
      "source": [
        "Create autoencoder\n",
        "\t\n",
        "Use ReLU  activation functions \n",
        "\n",
        "create constants for our input size and our encoding size. \n",
        "\n",
        "reduce our input from 784 -> 512 -> 256 -> 128 -> 64, encoder path\n",
        "\n",
        "then expand it back up 64 -> 128 -> 256 -> 512 -> 784, decoder path\n"
      ]
    },
    {
      "cell_type": "code",
      "metadata": {
        "id": "oacp6YGKjhtR"
      },
      "source": [
        "#reduce our input from 784 -> 512 -> 256 -> 128 -> 64 (encoder path), then expand it back up 64 -> 128 -> 256 -> 512 -> 784(decoder path).\n",
        "# Also notice the relu activation function\n",
        "input_img = Input(shape=(INPUT_SIZE,))\n",
        "encoded = Dense(512, activation='relu')(input_img)\n",
        "encoded = Dense(256, activation='relu')(encoded)\n",
        "encoded = Dense(128, activation='relu')(encoded)\n",
        "encoded = Dense(ENCODING_SIZE, activation='relu')(encoded)"
      ],
      "execution_count": null,
      "outputs": []
    },
    {
      "cell_type": "code",
      "metadata": {
        "id": "MSF9HPsAj2ns"
      },
      "source": [
        "decoded = Dense(128, activation='relu')(encoded)\n",
        "decoded = Dense(256, activation='relu')(decoded)\n",
        "decoded = Dense(512, activation='relu')(decoded)\n",
        "decoded = Dense(INPUT_SIZE, activation='relu')(decoded)\n"
      ],
      "execution_count": null,
      "outputs": []
    },
    {
      "cell_type": "code",
      "metadata": {
        "id": "1tMXFCw5j9lB"
      },
      "source": [
        "autoencoder = Model(input_img, decoded)"
      ],
      "execution_count": null,
      "outputs": []
    },
    {
      "cell_type": "markdown",
      "metadata": {
        "id": "2awwn1Hw11C-"
      },
      "source": [
        "Training the model and then making the prediction \n",
        "\n",
        "Build and train the model.\n",
        "\n",
        "Use the ADAM optimizer and mean squared error loss (the Euclidean distance/loss) between the input and reconstruction\n",
        "\n",
        "encode and decode the test set to see how well model is performing\n",
        "\n"
      ]
    },
    {
      "cell_type": "code",
      "metadata": {
        "colab": {
          "base_uri": "https://localhost:8080/"
        },
        "id": "jZ0OekOij_hR",
        "outputId": "2f433854-f9cc-4a34-a94c-359ee988614b"
      },
      "source": [
        "#using ADAM optimizer and mean squared error loss (the Euclidean distance/loss) between the input and reconstruction\n",
        "autoencoder.compile(optimizer='adam', loss='mean_squared_error',)\n",
        "autoencoder.fit(X_train, X_train, epochs=50, batch_size=256, shuffle=True, validation_split=0.2)"
      ],
      "execution_count": null,
      "outputs": [
        {
          "output_type": "stream",
          "text": [
            "Epoch 1/50\n",
            "188/188 [==============================] - 4s 6ms/step - loss: 0.0572 - val_loss: 0.0216\n",
            "Epoch 2/50\n",
            "188/188 [==============================] - 1s 4ms/step - loss: 0.0196 - val_loss: 0.0158\n",
            "Epoch 3/50\n",
            "188/188 [==============================] - 1s 4ms/step - loss: 0.0150 - val_loss: 0.0138\n",
            "Epoch 4/50\n",
            "188/188 [==============================] - 1s 4ms/step - loss: 0.0131 - val_loss: 0.0122\n",
            "Epoch 5/50\n",
            "188/188 [==============================] - 1s 4ms/step - loss: 0.0119 - val_loss: 0.0114\n",
            "Epoch 6/50\n",
            "188/188 [==============================] - 1s 4ms/step - loss: 0.0110 - val_loss: 0.0108\n",
            "Epoch 7/50\n",
            "188/188 [==============================] - 1s 4ms/step - loss: 0.0104 - val_loss: 0.0104\n",
            "Epoch 8/50\n",
            "188/188 [==============================] - 1s 4ms/step - loss: 0.0099 - val_loss: 0.0102\n",
            "Epoch 9/50\n",
            "188/188 [==============================] - 1s 4ms/step - loss: 0.0097 - val_loss: 0.0097\n",
            "Epoch 10/50\n",
            "188/188 [==============================] - 1s 4ms/step - loss: 0.0094 - val_loss: 0.0097\n",
            "Epoch 11/50\n",
            "188/188 [==============================] - 1s 4ms/step - loss: 0.0091 - val_loss: 0.0092\n",
            "Epoch 12/50\n",
            "188/188 [==============================] - 1s 4ms/step - loss: 0.0088 - val_loss: 0.0089\n",
            "Epoch 13/50\n",
            "188/188 [==============================] - 1s 4ms/step - loss: 0.0086 - val_loss: 0.0090\n",
            "Epoch 14/50\n",
            "188/188 [==============================] - 1s 4ms/step - loss: 0.0085 - val_loss: 0.0089\n",
            "Epoch 15/50\n",
            "188/188 [==============================] - 1s 4ms/step - loss: 0.0083 - val_loss: 0.0087\n",
            "Epoch 16/50\n",
            "188/188 [==============================] - 1s 4ms/step - loss: 0.0082 - val_loss: 0.0080\n",
            "Epoch 17/50\n",
            "188/188 [==============================] - 1s 4ms/step - loss: 0.0077 - val_loss: 0.0081\n",
            "Epoch 18/50\n",
            "188/188 [==============================] - 1s 4ms/step - loss: 0.0075 - val_loss: 0.0079\n",
            "Epoch 19/50\n",
            "188/188 [==============================] - 1s 4ms/step - loss: 0.0074 - val_loss: 0.0078\n",
            "Epoch 20/50\n",
            "188/188 [==============================] - 1s 4ms/step - loss: 0.0073 - val_loss: 0.0076\n",
            "Epoch 21/50\n",
            "188/188 [==============================] - 1s 4ms/step - loss: 0.0073 - val_loss: 0.0077\n",
            "Epoch 22/50\n",
            "188/188 [==============================] - 1s 4ms/step - loss: 0.0072 - val_loss: 0.0075\n",
            "Epoch 23/50\n",
            "188/188 [==============================] - 1s 4ms/step - loss: 0.0071 - val_loss: 0.0075\n",
            "Epoch 24/50\n",
            "188/188 [==============================] - 1s 4ms/step - loss: 0.0070 - val_loss: 0.0078\n",
            "Epoch 25/50\n",
            "188/188 [==============================] - 1s 4ms/step - loss: 0.0070 - val_loss: 0.0072\n",
            "Epoch 26/50\n",
            "188/188 [==============================] - 1s 4ms/step - loss: 0.0069 - val_loss: 0.0075\n",
            "Epoch 27/50\n",
            "188/188 [==============================] - 1s 4ms/step - loss: 0.0069 - val_loss: 0.0072\n",
            "Epoch 28/50\n",
            "188/188 [==============================] - 1s 4ms/step - loss: 0.0068 - val_loss: 0.0072\n",
            "Epoch 29/50\n",
            "188/188 [==============================] - 1s 4ms/step - loss: 0.0067 - val_loss: 0.0071\n",
            "Epoch 30/50\n",
            "188/188 [==============================] - 1s 4ms/step - loss: 0.0067 - val_loss: 0.0070\n",
            "Epoch 31/50\n",
            "188/188 [==============================] - 1s 4ms/step - loss: 0.0066 - val_loss: 0.0069\n",
            "Epoch 32/50\n",
            "188/188 [==============================] - 1s 4ms/step - loss: 0.0066 - val_loss: 0.0071\n",
            "Epoch 33/50\n",
            "188/188 [==============================] - 1s 4ms/step - loss: 0.0065 - val_loss: 0.0070\n",
            "Epoch 34/50\n",
            "188/188 [==============================] - 1s 4ms/step - loss: 0.0064 - val_loss: 0.0069\n",
            "Epoch 35/50\n",
            "188/188 [==============================] - 1s 4ms/step - loss: 0.0065 - val_loss: 0.0068\n",
            "Epoch 36/50\n",
            "188/188 [==============================] - 1s 4ms/step - loss: 0.0064 - val_loss: 0.0069\n",
            "Epoch 37/50\n",
            "188/188 [==============================] - 1s 4ms/step - loss: 0.0063 - val_loss: 0.0068\n",
            "Epoch 38/50\n",
            "188/188 [==============================] - 1s 4ms/step - loss: 0.0063 - val_loss: 0.0069\n",
            "Epoch 39/50\n",
            "188/188 [==============================] - 1s 4ms/step - loss: 0.0063 - val_loss: 0.0066\n",
            "Epoch 40/50\n",
            "188/188 [==============================] - 1s 4ms/step - loss: 0.0062 - val_loss: 0.0066\n",
            "Epoch 41/50\n",
            "188/188 [==============================] - 1s 4ms/step - loss: 0.0062 - val_loss: 0.0067\n",
            "Epoch 42/50\n",
            "188/188 [==============================] - 1s 4ms/step - loss: 0.0062 - val_loss: 0.0065\n",
            "Epoch 43/50\n",
            "188/188 [==============================] - 1s 4ms/step - loss: 0.0062 - val_loss: 0.0064\n",
            "Epoch 44/50\n",
            "188/188 [==============================] - 1s 4ms/step - loss: 0.0061 - val_loss: 0.0065\n",
            "Epoch 45/50\n",
            "188/188 [==============================] - 1s 4ms/step - loss: 0.0061 - val_loss: 0.0064\n",
            "Epoch 46/50\n",
            "188/188 [==============================] - 1s 4ms/step - loss: 0.0061 - val_loss: 0.0066\n",
            "Epoch 47/50\n",
            "188/188 [==============================] - 1s 4ms/step - loss: 0.0060 - val_loss: 0.0066\n",
            "Epoch 48/50\n",
            "188/188 [==============================] - 1s 4ms/step - loss: 0.0060 - val_loss: 0.0065\n",
            "Epoch 49/50\n",
            "188/188 [==============================] - 1s 4ms/step - loss: 0.0060 - val_loss: 0.0065\n",
            "Epoch 50/50\n",
            "188/188 [==============================] - 1s 4ms/step - loss: 0.0060 - val_loss: 0.0064\n"
          ],
          "name": "stdout"
        },
        {
          "output_type": "execute_result",
          "data": {
            "text/plain": [
              "<tensorflow.python.keras.callbacks.History at 0x7f84f06cddd0>"
            ]
          },
          "metadata": {
            "tags": []
          },
          "execution_count": 11
        }
      ]
    },
    {
      "cell_type": "code",
      "metadata": {
        "id": "SmLdgFuLkHLE"
      },
      "source": [
        "#After our autoencoder has trained, we can try to encode and decode the test set to see how well our autoencoder can compress\n",
        "decoded_imgs = autoencoder.predict(X_test)"
      ],
      "execution_count": null,
      "outputs": []
    },
    {
      "cell_type": "markdown",
      "metadata": {
        "id": "l9AV9WA32DO4"
      },
      "source": [
        "Visvualize the results "
      ]
    },
    {
      "cell_type": "code",
      "metadata": {
        "colab": {
          "base_uri": "https://localhost:8080/",
          "height": 297
        },
        "id": "4QGe9UvVu2gL",
        "outputId": "963598cb-504f-485b-e0fe-0145250c11a5"
      },
      "source": [
        "\n",
        "plt.figure(figsize=(20, 4))\n",
        "for i in range(10):\n",
        "    # original\n",
        "    plt.subplot(2, 10, i + 1)\n",
        "    plt.imshow(X_test[i].reshape(28, 28))\n",
        "    plt.gray()\n",
        "    plt.axis('off')\n",
        " \n",
        "    # reconstruction\n",
        "    plt.subplot(2, 10, i + 1 + 10)\n",
        "    plt.imshow(decoded_imgs[i].reshape(28, 28))\n",
        "    plt.gray()\n",
        "    plt.axis('off')\n",
        " \n",
        "plt.tight_layout()\n",
        "plt.show()"
      ],
      "execution_count": null,
      "outputs": [
        {
          "output_type": "display_data",
          "data": {
            "image/png": "[encoded data removed]",
            "text/plain": [
              "<Figure size 1440x288 with 20 Axes>"
            ]
          },
          "metadata": {
            "tags": [],
            "needs_background": "light"
          }
        }
      ]
    },
    {
      "cell_type": "markdown",
      "metadata": {
        "id": "qPuU-xlr2IQi"
      },
      "source": [
        "CNN \n",
        "\n",
        "The Problem: MNIST digit classification\n",
        "\t\n",
        "We’re going to tackle a classic introductory Computer Vision problem: MNIST handwritten digit classification. It’s simple: given an image, classify it as a digit\n",
        "\t\n",
        "Each image in the MNIST dataset is 28x28 and contains a centered, grayscale digit. Our CNN will take an image and output one of 10 possible classes (one for each digit)\n",
        "\n",
        "First of all,  import all necessary packages\n",
        "\n"
      ]
    },
    {
      "cell_type": "code",
      "metadata": {
        "id": "FAcah1drwp5F"
      },
      "source": [
        "import numpy as np\n",
        "import tensorflow as tf\n",
        "from keras.datasets import mnist\n",
        "from keras.models import Sequential\n",
        "from keras.layers import Conv2D, MaxPooling2D, Dense, Flatten\n",
        "from keras.utils import to_categorical"
      ],
      "execution_count": null,
      "outputs": []
    },
    {
      "cell_type": "code",
      "metadata": {
        "id": "G8wNQ_5JwrbI"
      },
      "source": [
        "(train_images, train_labels), (test_images, test_labels) = mnist.load_data()"
      ],
      "execution_count": null,
      "outputs": []
    },
    {
      "cell_type": "markdown",
      "metadata": {
        "id": "2sT7ApeR2u4I"
      },
      "source": [
        "Before we begin, we’ll normalize the image pixel values from [0, 255] to [-0.5, 0.5]\n",
        "\t \n",
        "This will  make our network easier to train (using smaller, centered values usually leads to better results). \n",
        "\n",
        "We’ll also reshape each image from (28, 28) to (28, 28, 1) because Keras requires the third dimension. (1 stands for color scheme, which is grey scale in this case). \n",
        "\n"
      ]
    },
    {
      "cell_type": "code",
      "metadata": {
        "id": "5fvE-hRywrlV"
      },
      "source": [
        "# Normalize the images.\n",
        "train_images = (train_images / 255) - 0.5\n",
        "test_images = (test_images / 255) - 0.5"
      ],
      "execution_count": null,
      "outputs": []
    },
    {
      "cell_type": "code",
      "metadata": {
        "id": "Xcah0Yovwro7"
      },
      "source": [
        "# Reshape the images.\n",
        "train_images = np.expand_dims(train_images, axis=3)\n",
        "test_images = np.expand_dims(test_images, axis=3)"
      ],
      "execution_count": null,
      "outputs": []
    },
    {
      "cell_type": "markdown",
      "metadata": {
        "id": "73nP9Kv73IJt"
      },
      "source": [
        "Keras model is either built using the Sequential class, which represents a linear stack of layers, or the functional Model class, which is more customizable. \n",
        "\n",
        "We’ll be using the simpler Sequential model, since our CNN will be a linear stack of layers.\n",
        "\n",
        "num_filters, filter_size, and pool_size are self-explanatory variables that set the hyperparameters for our CNN.\n",
        "\n",
        "The first layer in any Sequential model must specify the input_shape, so we do so on Conv2D. \n",
        "\n",
        "Once this input shape is specified, Keras will automatically infer the shapes of inputs for later layers.\n",
        "\t\n",
        "The output Softmax layer has 10 nodes, one for each class\n",
        "\n",
        "\n"
      ]
    },
    {
      "cell_type": "code",
      "metadata": {
        "id": "soSpyDp6wrr4"
      },
      "source": [
        "\n",
        "num_filters = 8\n",
        "filter_size = 3\n",
        "pool_size = 2"
      ],
      "execution_count": null,
      "outputs": []
    },
    {
      "cell_type": "code",
      "metadata": {
        "id": "2CpLEcMKw-CZ"
      },
      "source": [
        "# Build the model.\n",
        "model = Sequential([\n",
        "  Conv2D(num_filters, filter_size, input_shape=(28, 28, 1)),\n",
        "  MaxPooling2D(pool_size=pool_size),\n",
        "  Flatten(),\n",
        "  Dense(10, activation='softmax'),\n",
        "])"
      ],
      "execution_count": null,
      "outputs": []
    },
    {
      "cell_type": "markdown",
      "metadata": {
        "id": "SkwwUCKQ4M7U"
      },
      "source": [
        "Before we can begin training, we need to configure the training process. We decide 3 key factors during the compilation step:\n",
        "\t\n",
        "The optimizer. We’ll stick with a pretty good default: the Adam gradient-based optimizer. Keras has many other optimizers you can look into as well.\n",
        "\n",
        "The loss function. Since we’re using a Softmax output layer, we’ll use the Cross-Entropy loss. Keras distinguishes between binary_crossentropy (2 classes) and categorical_crossentropy (>2 classes), so we’ll use the latter. \n",
        "\n",
        "A list of metrics. Since this is a classification problem, we’ll just have Keras report on the accuracy metric.\n",
        "\n"
      ]
    },
    {
      "cell_type": "code",
      "metadata": {
        "id": "uhflsBSvw-GX"
      },
      "source": [
        "# Compile the model.\n",
        "model.compile(\n",
        "  'adam',\n",
        "  loss='categorical_crossentropy',\n",
        "  metrics=['accuracy'],\n",
        ")"
      ],
      "execution_count": null,
      "outputs": []
    },
    {
      "cell_type": "markdown",
      "metadata": {
        "id": "SVGOn2AX41Ub"
      },
      "source": [
        "Training a model in Keras literally consists only of calling fit() and specifying some parameters. There are a lot of possible parameters, but we’ll only supply these:\n",
        "\n",
        "The training data (images and labels), commonly known as X and Y, respectively.\n",
        "\n",
        "The number of epochs (iterations over the entire dataset) to train for.\n",
        "\n",
        "The validation data (or test data), which is used during training to periodically measure the network’s performance against data it hasn’t seen before.\n",
        "\n",
        "There’s one thing we have to be careful about:\n",
        "\n",
        "Keras expects the training targets to be 10-dimensional vectors, since there are 10 nodes in our Softmax output layer. Right now, our train_labels and test_labels arrays contain single integers representing the class for each image\n",
        "\n",
        "Conveniently, Keras has a utility method that fixes this exact issue:\n",
        "to_categorical: It turns our array of class integers into an array of one-hot vectors instead. For example, 2 would become [0, 0, 1, 0, 0, 0, 0, 0, 0, 0] (it’s zero-indexed)\n",
        "\n",
        "\n",
        "\n"
      ]
    },
    {
      "cell_type": "code",
      "metadata": {
        "colab": {
          "base_uri": "https://localhost:8080/"
        },
        "id": "srpkxU0_w-JR",
        "outputId": "0d11d931-3339-4e46-eff4-a72c96f6e526"
      },
      "source": [
        "# Train the model.\n",
        "model.fit(\n",
        "  train_images,\n",
        "  to_categorical(train_labels),\n",
        "  epochs=30,\n",
        "  validation_data=(test_images, to_categorical(test_labels)),\n",
        ")"
      ],
      "execution_count": null,
      "outputs": [
        {
          "output_type": "stream",
          "text": [
            "Epoch 1/30\n",
            "1875/1875 [==============================] - 34s 2ms/step - loss: 0.5680 - accuracy: 0.8400 - val_loss: 0.1790 - val_accuracy: 0.9491\n",
            "Epoch 2/30\n",
            "1875/1875 [==============================] - 4s 2ms/step - loss: 0.1686 - accuracy: 0.9522 - val_loss: 0.1297 - val_accuracy: 0.9612\n",
            "Epoch 3/30\n",
            "1875/1875 [==============================] - 5s 2ms/step - loss: 0.1252 - accuracy: 0.9636 - val_loss: 0.1070 - val_accuracy: 0.9675\n",
            "Epoch 4/30\n",
            "1875/1875 [==============================] - 5s 2ms/step - loss: 0.1018 - accuracy: 0.9713 - val_loss: 0.0962 - val_accuracy: 0.9704\n",
            "Epoch 5/30\n",
            "1875/1875 [==============================] - 5s 2ms/step - loss: 0.0894 - accuracy: 0.9736 - val_loss: 0.0933 - val_accuracy: 0.9706\n",
            "Epoch 6/30\n",
            "1875/1875 [==============================] - 5s 2ms/step - loss: 0.0810 - accuracy: 0.9757 - val_loss: 0.0887 - val_accuracy: 0.9733\n",
            "Epoch 7/30\n",
            "1875/1875 [==============================] - 5s 2ms/step - loss: 0.0715 - accuracy: 0.9788 - val_loss: 0.0889 - val_accuracy: 0.9735\n",
            "Epoch 8/30\n",
            "1875/1875 [==============================] - 5s 2ms/step - loss: 0.0662 - accuracy: 0.9801 - val_loss: 0.0846 - val_accuracy: 0.9745\n",
            "Epoch 9/30\n",
            "1875/1875 [==============================] - 5s 2ms/step - loss: 0.0615 - accuracy: 0.9823 - val_loss: 0.0829 - val_accuracy: 0.9737\n",
            "Epoch 10/30\n",
            "1875/1875 [==============================] - 5s 2ms/step - loss: 0.0605 - accuracy: 0.9816 - val_loss: 0.0793 - val_accuracy: 0.9758\n",
            "Epoch 11/30\n",
            "1875/1875 [==============================] - 5s 2ms/step - loss: 0.0521 - accuracy: 0.9844 - val_loss: 0.0784 - val_accuracy: 0.9765\n",
            "Epoch 12/30\n",
            "1875/1875 [==============================] - 4s 2ms/step - loss: 0.0510 - accuracy: 0.9852 - val_loss: 0.0767 - val_accuracy: 0.9766\n",
            "Epoch 13/30\n",
            "1875/1875 [==============================] - 5s 2ms/step - loss: 0.0458 - accuracy: 0.9864 - val_loss: 0.0781 - val_accuracy: 0.9763\n",
            "Epoch 14/30\n",
            "1875/1875 [==============================] - 4s 2ms/step - loss: 0.0441 - accuracy: 0.9860 - val_loss: 0.0784 - val_accuracy: 0.9766\n",
            "Epoch 15/30\n",
            "1875/1875 [==============================] - 5s 2ms/step - loss: 0.0408 - accuracy: 0.9872 - val_loss: 0.0762 - val_accuracy: 0.9775\n",
            "Epoch 16/30\n",
            "1875/1875 [==============================] - 5s 2ms/step - loss: 0.0427 - accuracy: 0.9878 - val_loss: 0.0779 - val_accuracy: 0.9770\n",
            "Epoch 17/30\n",
            "1875/1875 [==============================] - 5s 2ms/step - loss: 0.0387 - accuracy: 0.9889 - val_loss: 0.0771 - val_accuracy: 0.9773\n",
            "Epoch 18/30\n",
            "1875/1875 [==============================] - 5s 2ms/step - loss: 0.0349 - accuracy: 0.9895 - val_loss: 0.0807 - val_accuracy: 0.9766\n",
            "Epoch 19/30\n",
            "1875/1875 [==============================] - 5s 2ms/step - loss: 0.0351 - accuracy: 0.9894 - val_loss: 0.0843 - val_accuracy: 0.9766\n",
            "Epoch 20/30\n",
            "1875/1875 [==============================] - 5s 2ms/step - loss: 0.0328 - accuracy: 0.9901 - val_loss: 0.0790 - val_accuracy: 0.9783\n",
            "Epoch 21/30\n",
            "1875/1875 [==============================] - 4s 2ms/step - loss: 0.0318 - accuracy: 0.9907 - val_loss: 0.0829 - val_accuracy: 0.9770\n",
            "Epoch 22/30\n",
            "1875/1875 [==============================] - 5s 2ms/step - loss: 0.0277 - accuracy: 0.9923 - val_loss: 0.0819 - val_accuracy: 0.9773\n",
            "Epoch 23/30\n",
            "1875/1875 [==============================] - 5s 3ms/step - loss: 0.0269 - accuracy: 0.9923 - val_loss: 0.0823 - val_accuracy: 0.9776\n",
            "Epoch 24/30\n",
            "1875/1875 [==============================] - 5s 2ms/step - loss: 0.0263 - accuracy: 0.9929 - val_loss: 0.0911 - val_accuracy: 0.9769\n",
            "Epoch 25/30\n",
            "1875/1875 [==============================] - 5s 2ms/step - loss: 0.0254 - accuracy: 0.9924 - val_loss: 0.0833 - val_accuracy: 0.9783\n",
            "Epoch 26/30\n",
            "1875/1875 [==============================] - 5s 2ms/step - loss: 0.0238 - accuracy: 0.9932 - val_loss: 0.0818 - val_accuracy: 0.9776\n",
            "Epoch 27/30\n",
            "1875/1875 [==============================] - 5s 2ms/step - loss: 0.0219 - accuracy: 0.9934 - val_loss: 0.0945 - val_accuracy: 0.9758\n",
            "Epoch 28/30\n",
            "1875/1875 [==============================] - 5s 2ms/step - loss: 0.0225 - accuracy: 0.9929 - val_loss: 0.0889 - val_accuracy: 0.9780\n",
            "Epoch 29/30\n",
            "1875/1875 [==============================] - 5s 2ms/step - loss: 0.0185 - accuracy: 0.9947 - val_loss: 0.0872 - val_accuracy: 0.9775\n",
            "Epoch 30/30\n",
            "1875/1875 [==============================] - 5s 2ms/step - loss: 0.0186 - accuracy: 0.9946 - val_loss: 0.0945 - val_accuracy: 0.9771\n"
          ],
          "name": "stdout"
        },
        {
          "output_type": "execute_result",
          "data": {
            "text/plain": [
              "<tensorflow.python.keras.callbacks.History at 0x7f84b401eb90>"
            ]
          },
          "metadata": {
            "tags": []
          },
          "execution_count": 26
        }
      ]
    },
    {
      "cell_type": "markdown",
      "metadata": {
        "id": "zcMHM5u65_rF"
      },
      "source": [
        "We pass an array of inputs to predict() and it returns an array of outputs.\n",
        "\n",
        "The output of our network is 10 probabilities (because of softmax), so we’ll use np.argmax() to turn those into actual digits.\n"
      ]
    },
    {
      "cell_type": "code",
      "metadata": {
        "id": "Ganai2kyw-MX"
      },
      "source": [
        "# Predict on the first 5 test images.\n",
        "predictions = model.predict(test_images[:5])"
      ],
      "execution_count": null,
      "outputs": []
    },
    {
      "cell_type": "code",
      "metadata": {
        "colab": {
          "base_uri": "https://localhost:8080/"
        },
        "id": "WNqIPTlow-Ox",
        "outputId": "e7db1e03-e332-43e2-a8bf-548aeac822dd"
      },
      "source": [
        "# Print our model's predictions.\n",
        "print(\"These are the model predictions :\")\n",
        "print(np.argmax(predictions, axis=1)) # [7, 2, 1, 0, 4]\n",
        "print(\"\\n\")"
      ],
      "execution_count": null,
      "outputs": [
        {
          "output_type": "stream",
          "text": [
            "These are the model predictions :\n",
            "[7 2 1 0 4]\n",
            "\n",
            "\n"
          ],
          "name": "stdout"
        }
      ]
    },
    {
      "cell_type": "code",
      "metadata": {
        "colab": {
          "base_uri": "https://localhost:8080/"
        },
        "id": "8KAZx-dIw-SC",
        "outputId": "d4b061d3-761b-4e8e-9b99-b5d6eee5b905"
      },
      "source": [
        "# Check our predictions against the ground truths.\n",
        "print(\"These are the corresponding labels :\")\n",
        "print(test_labels[:5]) # [7, 2, 1, 0, 4]"
      ],
      "execution_count": null,
      "outputs": [
        {
          "output_type": "stream",
          "text": [
            "These are the corresponding labels :\n",
            "[7 2 1 0 4]\n"
          ],
          "name": "stdout"
        }
      ]
    }
  ]
}